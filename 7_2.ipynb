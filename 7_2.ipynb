{
  "nbformat": 4,
  "nbformat_minor": 0,
  "metadata": {
    "colab": {
      "provenance": [],
      "authorship_tag": "ABX9TyN8B2rHeKcNxdcvvl5RjDwn",
      "include_colab_link": true
    },
    "kernelspec": {
      "name": "python3",
      "display_name": "Python 3"
    },
    "language_info": {
      "name": "python"
    }
  },
  "cells": [
    {
      "cell_type": "markdown",
      "metadata": {
        "id": "view-in-github",
        "colab_type": "text"
      },
      "source": [
        "<a href=\"https://colab.research.google.com/github/chogh824/machine-learning/blob/main/7_2.ipynb\" target=\"_parent\"><img src=\"https://colab.research.google.com/assets/colab-badge.svg\" alt=\"Open In Colab\"/></a>"
      ]
    },
    {
      "cell_type": "markdown",
      "source": [
        "# 심층 신경망\n",
        "    O 2개 이상의 층을 포함한 신경망\n",
        "    O 종종 다중 인공 신경망, 심층 신경망, 딥러닝을 같은 의미로 사용"
      ],
      "metadata": {
        "id": "T0UyxwKVG1ES"
      }
    },
    {
      "cell_type": "markdown",
      "source": [
        "데이터 준비"
      ],
      "metadata": {
        "id": "u3BsLaQINreE"
      }
    },
    {
      "cell_type": "code",
      "source": [
        "# 실행마다 동일한 결과를 얻기 위해 케라스에 랜덤 시드를 사용하고 텐서플로 연산을 결정적으로 만듭니다.\n",
        "import tensorflow as tf\n",
        "\n",
        "tf.keras.utils.set_random_seed(42)\n",
        "tf.config.experimental.enable_op_determinism()"
      ],
      "metadata": {
        "id": "HCmgRAOeG2p4"
      },
      "execution_count": null,
      "outputs": []
    },
    {
      "cell_type": "markdown",
      "source": [
        "## 2개의 층\n",
        "\n",
        "2개의 층을 이용해서 심층 신경망을 만들어보자"
      ],
      "metadata": {
        "id": "UuM9atQOG8JN"
      }
    },
    {
      "cell_type": "code",
      "source": [
        "from tensorflow import keras\n",
        "\n",
        "(train_input, train_target), (test_input, test_target) = keras.datasets.fashion_mnist.load_data()"
      ],
      "metadata": {
        "colab": {
          "base_uri": "https://localhost:8080/"
        },
        "id": "586YmMnQG3pq",
        "outputId": "87430cad-cd3c-4ef4-d67d-e6b05ceb35e8"
      },
      "execution_count": null,
      "outputs": [
        {
          "output_type": "stream",
          "name": "stdout",
          "text": [
            "Downloading data from https://storage.googleapis.com/tensorflow/tf-keras-datasets/train-labels-idx1-ubyte.gz\n",
            "29515/29515 [==============================] - 0s 0us/step\n",
            "Downloading data from https://storage.googleapis.com/tensorflow/tf-keras-datasets/train-images-idx3-ubyte.gz\n",
            "26421880/26421880 [==============================] - 0s 0us/step\n",
            "Downloading data from https://storage.googleapis.com/tensorflow/tf-keras-datasets/t10k-labels-idx1-ubyte.gz\n",
            "5148/5148 [==============================] - 0s 0us/step\n",
            "Downloading data from https://storage.googleapis.com/tensorflow/tf-keras-datasets/t10k-images-idx3-ubyte.gz\n",
            "4422102/4422102 [==============================] - 0s 0us/step\n"
          ]
        }
      ]
    },
    {
      "cell_type": "code",
      "source": [
        "from sklearn.model_selection import train_test_split\n",
        "\n",
        "train_scaled = train_input / 255.0\n",
        "train_scaled = train_scaled.reshape(-1, 28*28)\n",
        "\n",
        "train_scaled, val_scaled, train_target, val_target = train_test_split(\n",
        "    train_scaled, train_target, test_size=0.2, random_state=42)"
      ],
      "metadata": {
        "id": "rzT_kcSzG3nU"
      },
      "execution_count": null,
      "outputs": []
    },
    {
      "cell_type": "markdown",
      "source": [
        "**은닉층(hidden layer)**\n",
        "\n",
        "입력층과 출력층 사이에 있는 모든 층\n",
        "\n",
        "출력층에서는 소프트맥스나 시그모이드 함수를 써야함\n",
        "\n",
        "그러나 은닉층은 활성화 함수의 선택이 자유로움\n",
        "\n",
        "**왜 은닉층에 활성화 함수를 적용하는가?**\n",
        "\n",
        "활성화 함수 없이 은닉층만 있다면 의미가 없기 때문\n",
        "\n",
        "예를 들어, 아래 두 선형 방정식이 있다고 가정하면,\n",
        "\n",
        "a*4 + 2 = b\n",
        "\n",
        "b*3-5=c\n",
        "\n",
        "결국 a*12 + 1 = c 가 되므로,\n",
        "\n",
        "첫 번째 선형 방정식"
      ],
      "metadata": {
        "id": "5taDFGluO3zZ"
      }
    },
    {
      "cell_type": "markdown",
      "source": [
        "dense1 : 은닉층, 100개의 뉴런을 가지는 밀집층\n",
        "\n",
        "은닉층의 뉴런 개수를 정하는 데는 특별한 기준이 없음\n",
        "\n",
        "따라서 몇 개의 뉴런을 두어야 할 지 판단하기 위해서는 상당한 경험이 필요함\n",
        "\n",
        "한 가지 제약 사항은 적어도 출력층의 뉴런보다는 많게 만들어야 함"
      ],
      "metadata": {
        "id": "kPzFptqZPjpH"
      }
    },
    {
      "cell_type": "markdown",
      "source": [
        "dense2: 출력층, 10개의 클래스를 분류하므로 10개의 뉴런을 설정하고 활성화 함수로 소프트맥스 함수를 지정\n",
        "\n",
        "또한 첫 번째 밀집층이 아니므로 input_shape를 지정할 필요가 없음"
      ],
      "metadata": {
        "id": "kC0s8KVHPxFM"
      }
    },
    {
      "cell_type": "code",
      "source": [
        "dense1 = keras.layers.Dense(100, activation='sigmoid', input_shape=(784,))\n",
        "dense2 = keras.layers.Dense(10, activation='softmax') # 이거"
      ],
      "metadata": {
        "id": "6cGOjZwSG3lA"
      },
      "execution_count": null,
      "outputs": []
    },
    {
      "cell_type": "markdown",
      "source": [
        "## 심층 신경망 만들기"
      ],
      "metadata": {
        "id": "iopoNxu5HEPc"
      }
    },
    {
      "cell_type": "code",
      "source": [
        "model = keras.Sequential([dense1, dense2])  # 이거"
      ],
      "metadata": {
        "id": "7qIQI-PWG3iM"
      },
      "execution_count": null,
      "outputs": []
    },
    {
      "cell_type": "markdown",
      "source": [
        "인공 신경망의 강력한 성능은 이렇게 층을 리스트로 추가하여 입력 데이터에 대해 연속적인 학습을 진행하는 능력에서 나옴"
      ],
      "metadata": {
        "id": "th1_DuKbP7Sg"
      }
    },
    {
      "cell_type": "code",
      "source": [
        "model.summary() # 내가 만든 모델이, 내가 구성한 모델이 어떤 형태로 구성되어있는지를 확인해볼 수 있는 Summary()함수\n",
        "# 무조건 시험에 나옴, 이거"
      ],
      "metadata": {
        "colab": {
          "base_uri": "https://localhost:8080/"
        },
        "id": "qF_h0pSUG3fa",
        "outputId": "26e5718f-4a91-4a93-c532-13df8863c324"
      },
      "execution_count": null,
      "outputs": [
        {
          "output_type": "stream",
          "name": "stdout",
          "text": [
            "Model: \"sequential\"\n",
            "_________________________________________________________________\n",
            " Layer (type)                Output Shape              Param #   \n",
            "=================================================================\n",
            " dense (Dense)               (None, 100)               78500     \n",
            "                                                                 \n",
            " dense_1 (Dense)             (None, 10)                1010      \n",
            "                                                                 \n",
            "=================================================================\n",
            "Total params: 79510 (310.59 KB)\n",
            "Trainable params: 79510 (310.59 KB)\n",
            "Non-trainable params: 0 (0.00 Byte)\n",
            "_________________________________________________________________\n"
          ]
        }
      ]
    },
    {
      "cell_type": "markdown",
      "source": [
        "Model: \"sequential\" <- 모델 이름"
      ],
      "metadata": {
        "id": "IDGbNX4kQj0S"
      }
    },
    {
      "cell_type": "markdown",
      "source": [
        "이 모델에 들어 있는 층이 순서대로 나열\n",
        "\n",
        "층마다 층 이름, 클래스, 출력 크기, 모델 파라미터 개수가 출력\n",
        "\n",
        "층을 만들 때 name 매개변수로 이름 지정 가능\n",
        "\n",
        "미지정시 자동으로 dense라고 이름을 붙임\n",
        "\n",
        "---\n",
        "\n",
        "출력 크기의 (None, 100)에서 첫 번째 차원은 샘플의 개수를 나타냄\n",
        "\n",
        "현재 샘플 개수가 아직 정의되어 있지 않기 때문에 None임\n",
        "\n",
        "(784,)은 한 샘플의 크기를 뜻하는 거지 샘플의 수를 뜻하지 않음\n",
        "\n",
        "100 나누고 1 빼기\n",
        "\n",
        "케라스 모델의 fit() 메서드에 훈련 데이터를 주입하면 이 데이터를 한 번에 모두 사용하지 않고 잘게 나누어 여러 번에 걸쳐 경사하강법 단계를 수행\n",
        "\n",
        "즉, 미니배치 경사 하강법을 사용\n",
        "\n",
        "케라스의 기본 미니배치 크기는 32이며 fit()메서드에서 batch_size 매개변수로 바꿀 수 있음\n",
        "\n",
        "따라서 샘플 개수를 고정하지 않고 어떤 배치 크기에도 유연하게 대응할 수 있도록 None로 설정\n",
        "\n",
        "이렇게 신경망 층에 입력되거나 출력되는 배열의 첫 번째 차원을 배치 차원이라고 함\n",
        "\n",
        "두 번째 100 같은 경우 은닉층의 뉴런 개수를 100개로 두었으니 100개의 출력이 나오는 것. 샘플마다 784개의 픽셀값이 은닉층을 통과하면서 100개의 특성으로 압축됨\n",
        "\n",
        "마지막으로는 모델 파라미터가 출력되며, 이 층은 Dense 층이므로 입력 픽셀 784개와 100개의 모든 조합에 대한 가중치가 있음. 그리고 뉴런마다 1개의 절편이 있음!"
      ],
      "metadata": {
        "id": "kYz3ojozQmw1"
      }
    },
    {
      "cell_type": "markdown",
      "source": [
        "## 층을 추가하는 다른 방법\n",
        "\n",
        "따로 Dense 클래스를 만들지 않고 sequential 클래스의 생성자 안에서 바로 Dense 클래스의 객체를 생성\n",
        "\n",
        "추가되는 층을 한눈에 손쉽게 알아볼 수 있음\n",
        "\n",
        "모델의 이름과는 다르게 층의 이름은 반드시 영문이여야 함"
      ],
      "metadata": {
        "id": "NLAej4H2HP9k"
      }
    },
    {
      "cell_type": "code",
      "source": [
        "model = keras.Sequential([\n",
        "    keras.layers.Dense(100, activation='sigmoid', input_shape=(784,), name='hidden'),\n",
        "    keras.layers.Dense(10, activation='softmax', name='output')\n",
        "], name='패션 MNIST 모델')"
      ],
      "metadata": {
        "id": "oB-sf4WaG3dX"
      },
      "execution_count": null,
      "outputs": []
    },
    {
      "cell_type": "code",
      "source": [
        "model.summary()"
      ],
      "metadata": {
        "colab": {
          "base_uri": "https://localhost:8080/"
        },
        "id": "MimTkrGaG3bF",
        "outputId": "95d2f959-36f0-43bb-eb65-4069450533d2"
      },
      "execution_count": null,
      "outputs": [
        {
          "output_type": "stream",
          "name": "stdout",
          "text": [
            "Model: \"패션 MNIST 모델\"\n",
            "_________________________________________________________________\n",
            " Layer (type)                Output Shape              Param #   \n",
            "=================================================================\n",
            " hidden (Dense)              (None, 100)               78500     \n",
            "                                                                 \n",
            " output (Dense)              (None, 10)                1010      \n",
            "                                                                 \n",
            "=================================================================\n",
            "Total params: 79510 (310.59 KB)\n",
            "Trainable params: 79510 (310.59 KB)\n",
            "Non-trainable params: 0 (0.00 Byte)\n",
            "_________________________________________________________________\n"
          ]
        }
      ]
    },
    {
      "cell_type": "markdown",
      "source": [
        "편리하나 아주 많은 층을 추가하려면 Sequential 클래스의 생성자가 매우 길어짐\n",
        "\n",
        "또 조건에 따라 층을 추가할 수도 없음"
      ],
      "metadata": {
        "id": "WEM6YPNUSxkH"
      }
    },
    {
      "cell_type": "markdown",
      "source": [
        "**층을 추가하는 또 다른 방법**"
      ],
      "metadata": {
        "id": "OScMzpjPS5KT"
      }
    },
    {
      "cell_type": "code",
      "source": [
        "model = keras.Sequential()\n",
        "model.add(keras.layers.Dense(100, activation='sigmoid', input_shape=(784,)))\n",
        "model.add(keras.layers.Dense(10, activation='softmax'))"
      ],
      "metadata": {
        "id": "RoYYCwlOG3Ym"
      },
      "execution_count": null,
      "outputs": []
    },
    {
      "cell_type": "code",
      "source": [
        "model.summary()"
      ],
      "metadata": {
        "colab": {
          "base_uri": "https://localhost:8080/"
        },
        "id": "gfVqfOz5G3WD",
        "outputId": "e85bc62e-8215-4756-d15d-d2d558ccd4f1"
      },
      "execution_count": null,
      "outputs": [
        {
          "output_type": "stream",
          "name": "stdout",
          "text": [
            "Model: \"sequential_1\"\n",
            "_________________________________________________________________\n",
            " Layer (type)                Output Shape              Param #   \n",
            "=================================================================\n",
            " dense_2 (Dense)             (None, 100)               78500     \n",
            "                                                                 \n",
            " dense_3 (Dense)             (None, 10)                1010      \n",
            "                                                                 \n",
            "=================================================================\n",
            "Total params: 79510 (310.59 KB)\n",
            "Trainable params: 79510 (310.59 KB)\n",
            "Non-trainable params: 0 (0.00 Byte)\n",
            "_________________________________________________________________\n"
          ]
        }
      ]
    },
    {
      "cell_type": "code",
      "source": [
        "#모델 훈련\n",
        "model.compile(loss='sparse_categorical_crossentropy', metrics='accuracy')\n",
        "\n",
        "model.fit(train_scaled, train_target, epochs=5)"
      ],
      "metadata": {
        "colab": {
          "base_uri": "https://localhost:8080/"
        },
        "id": "Mv7-6hp0G3TX",
        "outputId": "9968658c-afc0-4458-a745-c5d4407a3f07"
      },
      "execution_count": null,
      "outputs": [
        {
          "output_type": "stream",
          "name": "stdout",
          "text": [
            "Epoch 1/5\n",
            "1500/1500 [==============================] - 4s 2ms/step - loss: 0.5710 - accuracy: 0.8064\n",
            "Epoch 2/5\n",
            "1500/1500 [==============================] - 5s 3ms/step - loss: 0.4132 - accuracy: 0.8509\n",
            "Epoch 3/5\n",
            "1500/1500 [==============================] - 4s 3ms/step - loss: 0.3776 - accuracy: 0.8646\n",
            "Epoch 4/5\n",
            "1500/1500 [==============================] - 4s 2ms/step - loss: 0.3530 - accuracy: 0.8732\n",
            "Epoch 5/5\n",
            "1500/1500 [==============================] - 3s 2ms/step - loss: 0.3344 - accuracy: 0.8782\n"
          ]
        },
        {
          "output_type": "execute_result",
          "data": {
            "text/plain": [
              "<keras.src.callbacks.History at 0x7be58689aaa0>"
            ]
          },
          "metadata": {},
          "execution_count": 11
        }
      ]
    },
    {
      "cell_type": "code",
      "source": [
        "model.evaluate(val_scaled, val_target)"
      ],
      "metadata": {
        "colab": {
          "base_uri": "https://localhost:8080/"
        },
        "id": "0zCtI8-oTQmq",
        "outputId": "430496e6-37c6-4bf4-ebdd-fd62f2c02c7c"
      },
      "execution_count": null,
      "outputs": [
        {
          "output_type": "stream",
          "name": "stdout",
          "text": [
            "375/375 [==============================] - 1s 1ms/step - loss: 0.3509 - accuracy: 0.8751\n"
          ]
        },
        {
          "output_type": "execute_result",
          "data": {
            "text/plain": [
              "[0.3508652448654175, 0.875083327293396]"
            ]
          },
          "metadata": {},
          "execution_count": 26
        }
      ]
    },
    {
      "cell_type": "markdown",
      "source": [
        "## 렐루 활성화 함수"
      ],
      "metadata": {
        "id": "XUf_lkMIHc6G"
      }
    },
    {
      "cell_type": "markdown",
      "source": [
        "초창기 인공 신경망의 은닉층에 많이 사용된 활성화 함수는 시그모이드 함수였음.\n",
        "\n",
        "특히 층이 많은 심층 신경망일수록 그 효과가 누적되어 학습을 더 어렵게 함\n",
        "\n",
        "이를 개선하기 위해 다른 종류의 활성화 함수인 렐루 함수가 제안됨\n",
        "\n",
        "\n",
        "---\n",
        "**렐루(RelU) 함수**\n",
        "\n",
        "입력이 양수일 때, 입력을 그대로 통과시키고 음수일 경우 0으로 설정함\n",
        "\n",
        "렐루함수는 max(0,z)와 같이 쓸 수도 있음\n",
        "\n",
        "이 함수는 z가 0보다 크면 z를 출력하고 z가 0보다 작으면 0을 출력\n",
        "\n",
        "렐루 함수는 특히 이미지 처리에서 좋은 성능을 낸다고 알려짐"
      ],
      "metadata": {
        "id": "OFUsLG2qXROg"
      }
    },
    {
      "cell_type": "markdown",
      "source": [
        "**Flatten 층**\n",
        "\n",
        "케라스에서 제공하는 편리한 층\n",
        "\n",
        "지금까지 2차원 이상의 넘파이 배열의 데이터를 reshape() 메서드를 이용해 1차원으로 변경함\n",
        "\n",
        "Flatten 클래스는 배치 차원을 제외하고 나머지 입력 차원을 모두 일렬로 펼치는 역할만 함\n",
        "\n",
        "데이터의 첫 번째 축(0번 축)을 배치 축(batch axis) 또는 배치 차원(batch dimension)이라고 부름\n",
        "\n",
        "입력에 곱해지는 가중치나 절편이 없어서 성능에 기여하는 것은 없음\n",
        "\n",
        "그러나 Flatten 클래스는 입력층과 은닉층 사이에 추가되기 때문에 층이라 부름\n",
        "\n",
        "하지만 Flatten 클래스는 학습하는 층이 아니므로 이 신경망의 깊이가 3인 신경망이라고 하지는 않음"
      ],
      "metadata": {
        "id": "9KiwITDbX6FP"
      }
    },
    {
      "cell_type": "code",
      "source": [
        "model = keras.Sequential()\n",
        "model.add(keras.layers.Flatten(input_shape=(28, 28)))\n",
        "model.add(keras.layers.Dense(100, activation='relu'))\n",
        "model.add(keras.layers.Dense(10, activation='softmax'))"
      ],
      "metadata": {
        "id": "LYg1dZ2GG3Qv"
      },
      "execution_count": null,
      "outputs": []
    },
    {
      "cell_type": "code",
      "source": [
        "model.summary()"
      ],
      "metadata": {
        "colab": {
          "base_uri": "https://localhost:8080/"
        },
        "id": "xIvqIQ4LG3OR",
        "outputId": "ae9fe002-9eb1-4d2b-df4e-b41919a98843"
      },
      "execution_count": null,
      "outputs": [
        {
          "output_type": "stream",
          "name": "stdout",
          "text": [
            "Model: \"sequential_2\"\n",
            "_________________________________________________________________\n",
            " Layer (type)                Output Shape              Param #   \n",
            "=================================================================\n",
            " flatten (Flatten)           (None, 784)               0         \n",
            "                                                                 \n",
            " dense_4 (Dense)             (None, 100)               78500     \n",
            "                                                                 \n",
            " dense_5 (Dense)             (None, 10)                1010      \n",
            "                                                                 \n",
            "=================================================================\n",
            "Total params: 79510 (310.59 KB)\n",
            "Trainable params: 79510 (310.59 KB)\n",
            "Non-trainable params: 0 (0.00 Byte)\n",
            "_________________________________________________________________\n"
          ]
        }
      ]
    },
    {
      "cell_type": "markdown",
      "source": [
        "첫 번째 등장하는 Flatten 클래스에 포함된 모델 파라미터는 0개\n",
        "\n",
        "케라스의 Flatten 층을 신경망 모델에 추가하면 입력값의 차원을 짐작할 수 있음\n",
        "\n",
        "케라스 API는 입력 데이터에 대한 전처리 과정을 될 수 있으면 모델에 포함시킴"
      ],
      "metadata": {
        "id": "BQDWI9w9Ygmc"
      }
    },
    {
      "cell_type": "markdown",
      "source": [
        "훈련 데이터 재생성\n",
        "\n",
        "이전과 다른 점은 reshape()메서드를 사용하지 않음"
      ],
      "metadata": {
        "id": "-gWaoScxYpV_"
      }
    },
    {
      "cell_type": "code",
      "source": [
        "(train_input, train_target), (test_input, test_target) = keras.datasets.fashion_mnist.load_data()\n",
        "\n",
        "train_scaled = train_input / 255.0\n",
        "\n",
        "train_scaled, val_scaled, train_target, val_target = train_test_split(\n",
        "    train_scaled, train_target, test_size=0.2, random_state=42)"
      ],
      "metadata": {
        "id": "t6MXulC9G3Lz"
      },
      "execution_count": null,
      "outputs": []
    },
    {
      "cell_type": "code",
      "source": [
        "model.compile(loss='sparse_categorical_crossentropy', metrics='accuracy')\n",
        "\n",
        "model.fit(train_scaled, train_target, epochs=5)"
      ],
      "metadata": {
        "colab": {
          "base_uri": "https://localhost:8080/"
        },
        "id": "fFiAb05IG3Jo",
        "outputId": "a3b8c2c5-3a87-40f8-d33b-188df25fecd9"
      },
      "execution_count": null,
      "outputs": [
        {
          "output_type": "stream",
          "name": "stdout",
          "text": [
            "Epoch 1/5\n",
            "1500/1500 [==============================] - 3s 2ms/step - loss: 0.5290 - accuracy: 0.8114\n",
            "Epoch 2/5\n",
            "1500/1500 [==============================] - 3s 2ms/step - loss: 0.3929 - accuracy: 0.8565\n",
            "Epoch 3/5\n",
            "1500/1500 [==============================] - 3s 2ms/step - loss: 0.3545 - accuracy: 0.8717\n",
            "Epoch 4/5\n",
            "1500/1500 [==============================] - 3s 2ms/step - loss: 0.3319 - accuracy: 0.8812\n",
            "Epoch 5/5\n",
            "1500/1500 [==============================] - 3s 2ms/step - loss: 0.3139 - accuracy: 0.8859\n"
          ]
        },
        {
          "output_type": "execute_result",
          "data": {
            "text/plain": [
              "<keras.src.callbacks.History at 0x7be5b1dcc9d0>"
            ]
          },
          "metadata": {},
          "execution_count": 15
        }
      ]
    },
    {
      "cell_type": "markdown",
      "source": [
        "시그모이드 함수를 사용했을 때보다 성능이 약간 향상"
      ],
      "metadata": {
        "id": "nDqcopSHY-yU"
      }
    },
    {
      "cell_type": "code",
      "source": [
        "model.evaluate(val_scaled, val_target)"
      ],
      "metadata": {
        "colab": {
          "base_uri": "https://localhost:8080/"
        },
        "id": "CqZ6yAQWG3HW",
        "outputId": "07467f38-4cf7-4a4f-d6f9-c28e20aefdcc"
      },
      "execution_count": null,
      "outputs": [
        {
          "output_type": "stream",
          "name": "stdout",
          "text": [
            "375/375 [==============================] - 1s 1ms/step - loss: 0.3776 - accuracy: 0.8721\n"
          ]
        },
        {
          "output_type": "execute_result",
          "data": {
            "text/plain": [
              "[0.3776129186153412, 0.872083306312561]"
            ]
          },
          "metadata": {},
          "execution_count": 16
        }
      ]
    },
    {
      "cell_type": "markdown",
      "source": [
        "## 옵티마이저\n",
        "\n",
        "신경망의 가중치와 절편을 학습하기 위한 알고리즘 또는 방법\n",
        "\n",
        "사용할 경사하강법 알고리즘과 그 파라미터를 지정하는 매개변수\n",
        "\n",
        "---\n",
        "신경망에는 하이퍼파라미터가 많음\n",
        "\n",
        "추가할 은닉층의 개수, 은닉층의 뉴런 개수, 사용할 활성화 함수, 사용할 층의 종류,\n",
        "\n",
        "fit 메서드의 미니배치 개수, epochs 매개변수\n",
        "\n",
        "compile() 메서드의 경사 하강법 알고리즘도 하이퍼파라미터\n",
        "\n",
        "케라스의 기본 세팅된 경사하강법 알고리즘은 RMSprop 이고 RMSprop의 학습률 또한 하이퍼파라미터\n",
        "\n",
        "케라스는 다양한 종류의 경사 하강법 알고리즘(4-2절 참고)을 제공하여 이들을 옵티마이저(optimizer)라고 함\n",
        "\n",
        "---\n",
        "SGD 경사 하강법 최적화\n",
        "\n",
        "학습률 조정\n",
        "\n",
        "sgd = keras.optimizers.SGD(learning_rate=0.1) # 기본값은 0.01\n"
      ],
      "metadata": {
        "id": "o6z5u72sHo8V"
      }
    },
    {
      "cell_type": "markdown",
      "source": [
        "모멘텀 최적화\n",
        "\n",
        "모멘텀(관성, 운동량) 조절\n",
        "\n",
        "sgd = keras.optimizers.SGD(momentum=0.9) #기본값은 0\n",
        "\n",
        "새로운 가중치와 절편을 계산할 때, 과거의 가중치와 절편의 변화량을 어느 정도 반영할 것인지 결정함\n",
        "\n",
        "간단히 말하면 한 번에 이동하는 가중치와 절편의 크기에 변화를 줌\n",
        "\n",
        "여기서 표시된 loss는 절대제곱오차"
      ],
      "metadata": {
        "id": "uA4vgc61akqC"
      }
    },
    {
      "cell_type": "markdown",
      "source": [
        "네스테로프 모멘텀 최적화 (네스테로프 가속 경사)\n",
        "\n",
        "sgd - keras.optimizers.SGD(momentum=0.9, nesterov=True) # 기본값은 0\n",
        "\n",
        "모멘텀 최적화를 2번 반복하여 구현\n",
        "\n",
        "모멘텀 최적화와 비교하면 손실함수의 입력인 이전의 기울기와 절편에 추가로 이전 속도가"
      ],
      "metadata": {
        "id": "Z5jtE5FMa1BF"
      }
    },
    {
      "cell_type": "markdown",
      "source": [
        "**적용적 학습률**"
      ],
      "metadata": {
        "id": "H-k3bzVnbGNF"
      }
    },
    {
      "cell_type": "markdown",
      "source": [
        "ADAM\n",
        "\n",
        "모멘텀 최적화와 RMSprop의 장점을 접목한 것"
      ],
      "metadata": {
        "id": "EQXtIJb6bbeh"
      }
    },
    {
      "cell_type": "code",
      "source": [
        "model.compile(optimizer='sgd', loss='sparse_categorical_crossentropy', metrics='accuracy')"
      ],
      "metadata": {
        "id": "v-RrnNJKG3Ep"
      },
      "execution_count": null,
      "outputs": []
    },
    {
      "cell_type": "code",
      "source": [
        "sgd = keras.optimizers.SGD()\n",
        "model.compile(optimizer=sgd, loss='sparse_categorical_crossentropy', metrics='accuracy')"
      ],
      "metadata": {
        "id": "-Jkk9p_xHrQW"
      },
      "execution_count": null,
      "outputs": []
    },
    {
      "cell_type": "code",
      "source": [
        "sgd = keras.optimizers.SGD(learning_rate=0.1)"
      ],
      "metadata": {
        "id": "pTejBWvsHrM6"
      },
      "execution_count": null,
      "outputs": []
    },
    {
      "cell_type": "code",
      "source": [
        "sgd = keras.optimizers.SGD(momentum=0.9, nesterov=True)"
      ],
      "metadata": {
        "id": "1-XAXetAHrKe"
      },
      "execution_count": null,
      "outputs": []
    },
    {
      "cell_type": "code",
      "source": [
        "adagrad = keras.optimizers.Adagrad()\n",
        "model.compile(optimizer=adagrad, loss='sparse_categorical_crossentropy', metrics='accuracy')"
      ],
      "metadata": {
        "id": "EZDo7dsEHw-j"
      },
      "execution_count": null,
      "outputs": []
    },
    {
      "cell_type": "code",
      "source": [
        "rmsprop = keras.optimizers.RMSprop()\n",
        "model.compile(optimizer=rmsprop, loss='sparse_categorical_crossentropy', metrics='accuracy')"
      ],
      "metadata": {
        "id": "8zFnN7nNHw7K"
      },
      "execution_count": null,
      "outputs": []
    },
    {
      "cell_type": "code",
      "source": [
        "model = keras.Sequential()\n",
        "model.add(keras.layers.Flatten(input_shape=(28, 28)))\n",
        "model.add(keras.layers.Dense(100, activation='relu'))\n",
        "model.add(keras.layers.Dense(10, activation='softmax'))"
      ],
      "metadata": {
        "id": "GTtKvPK9Hw44"
      },
      "execution_count": null,
      "outputs": []
    },
    {
      "cell_type": "code",
      "source": [
        "model.compile(optimizer='adam', loss='sparse_categorical_crossentropy', metrics='accuracy')\n",
        "\n",
        "model.fit(train_scaled, train_target, epochs=5)"
      ],
      "metadata": {
        "colab": {
          "base_uri": "https://localhost:8080/"
        },
        "id": "AX-nSyk_G3Cc",
        "outputId": "81bd0500-a4dc-4790-f80b-6b466de7126d"
      },
      "execution_count": null,
      "outputs": [
        {
          "output_type": "stream",
          "name": "stdout",
          "text": [
            "Epoch 1/5\n",
            "1500/1500 [==============================] - 3s 2ms/step - loss: 0.5262 - accuracy: 0.8154\n",
            "Epoch 2/5\n",
            "1500/1500 [==============================] - 3s 2ms/step - loss: 0.3940 - accuracy: 0.8589\n",
            "Epoch 3/5\n",
            "1500/1500 [==============================] - 3s 2ms/step - loss: 0.3546 - accuracy: 0.8702\n",
            "Epoch 4/5\n",
            "1500/1500 [==============================] - 3s 2ms/step - loss: 0.3284 - accuracy: 0.8794\n",
            "Epoch 5/5\n",
            "1500/1500 [==============================] - 3s 2ms/step - loss: 0.3058 - accuracy: 0.8872\n"
          ]
        },
        {
          "output_type": "execute_result",
          "data": {
            "text/plain": [
              "<keras.src.callbacks.History at 0x7be5b96d1ab0>"
            ]
          },
          "metadata": {},
          "execution_count": 24
        }
      ]
    },
    {
      "cell_type": "code",
      "execution_count": null,
      "metadata": {
        "colab": {
          "base_uri": "https://localhost:8080/"
        },
        "id": "Z8SYVJtF9bVr",
        "outputId": "28513eb7-fa6e-4f8c-e292-a4ce1552c3cb"
      },
      "outputs": [
        {
          "output_type": "stream",
          "name": "stdout",
          "text": [
            "375/375 [==============================] - 1s 1ms/step - loss: 0.3509 - accuracy: 0.8751\n"
          ]
        },
        {
          "output_type": "execute_result",
          "data": {
            "text/plain": [
              "[0.3508652448654175, 0.875083327293396]"
            ]
          },
          "metadata": {},
          "execution_count": 25
        }
      ],
      "source": [
        "model.evaluate(val_scaled, val_target)"
      ]
    },
    {
      "cell_type": "markdown",
      "source": [],
      "metadata": {
        "id": "XoNNpf7KeQzb"
      }
    }
  ]
}